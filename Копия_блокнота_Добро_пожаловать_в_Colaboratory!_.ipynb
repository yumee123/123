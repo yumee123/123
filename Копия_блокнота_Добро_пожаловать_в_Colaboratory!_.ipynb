{
  "cells": [
    {
      "cell_type": "markdown",
      "metadata": {
        "id": "view-in-github",
        "colab_type": "text"
      },
      "source": [
        "<a href=\"https://colab.research.google.com/github/yumee123/123/blob/main/%D0%9A%D0%BE%D0%BF%D0%B8%D1%8F_%D0%B1%D0%BB%D0%BE%D0%BA%D0%BD%D0%BE%D1%82%D0%B0_%D0%94%D0%BE%D0%B1%D1%80%D0%BE_%D0%BF%D0%BE%D0%B6%D0%B0%D0%BB%D0%BE%D0%B2%D0%B0%D1%82%D1%8C_%D0%B2_Colaboratory!_.ipynb\" target=\"_parent\"><img src=\"https://colab.research.google.com/assets/colab-badge.svg\" alt=\"Open In Colab\"/></a>"
      ]
    },
    {
      "cell_type": "code",
      "source": [
        "import pandas as pd\n",
        "\n",
        "# Загружаем датасет\n",
        "df = pd.read_csv('titanic (1).csv')\n",
        "\n",
        "print(\"\\nЗадание 1: Количество мужчин и женщин\")\n",
        "male_count = df['Sex'].value_counts()['male']\n",
        "female_count = df['Sex'].value_counts()['female']\n",
        "print(f\"Количество мужчин: {male_count}, количество женщин: {female_count}\")\n",
        "\n",
        "print(\"\\nЗадание 2: Доля выживших пассажиров\")\n",
        "survival_rate = round(df['Survived'].mean() * 100, 3)\n",
        "print(f\"Доля выживших пассажиров: {survival_rate}\")\n",
        "\n",
        "print(\"\\nЗадание 3: Доля пассажиров первого класса\")\n",
        "first_class_ratio = round(df['Pclass'].value_counts()[1] / len(df) * 100, 3)\n",
        "print(f\"Доля пассажиров первого класса: {first_class_ratio}\")\n",
        "\n",
        "print(\"\\nЗадание 4: Средний(медиан) возраст\")\n",
        "mean_age = round(df['Age'].mean(), 3)\n",
        "median_age = round(df['Age'].median(), 3)\n",
        "print(f\"Средний возраст: {mean_age} Средний(медиан) возраст: {median_age}\")\n",
        "\n",
        "print(\"\\nЗадание 5: Корреляция между SibSp и Parch\")\n",
        "correlation = df[['SibSp', 'Parch']].corr().iloc[0, 1]\n",
        "print(f\"Корреляция Пирсона между SibSp и Parch: {correlation}\")\n",
        "\n"
      ],
      "metadata": {
        "colab": {
          "base_uri": "https://localhost:8080/"
        },
        "id": "Vd5c3CBHkUCA",
        "outputId": "7b4cc413-e075-4532-dfe7-686fe89fb1af"
      },
      "execution_count": 8,
      "outputs": [
        {
          "output_type": "stream",
          "name": "stdout",
          "text": [
            "\n",
            "Задание 1: Количество мужчин и женщин\n",
            "Количество мужчин: 100, количество женщин: 56\n",
            "\n",
            "Задание 2: Доля выживших пассажиров\n",
            "Доля выживших пассажиров: 34.615\n",
            "\n",
            "Задание 3: Доля пассажиров первого класса\n",
            "Доля пассажиров первого класса: 19.231\n",
            "\n",
            "Задание 4: Средний(медиан) возраст\n",
            "Средний возраст: 28.142 Средний(медиан) возраст: 26.0\n",
            "\n",
            "Задание 5: Корреляция между SibSp и Parch\n",
            "Корреляция Пирсона между SibSp и Parch: 0.39904002232194297\n"
          ]
        }
      ]
    },
    {
      "cell_type": "code",
      "source": [],
      "metadata": {
        "id": "EKkcnjfy3KZ2"
      },
      "execution_count": null,
      "outputs": []
    }
  ],
  "metadata": {
    "colab": {
      "provenance": [],
      "include_colab_link": true
    },
    "kernelspec": {
      "display_name": "Python 3",
      "name": "python3"
    }
  },
  "nbformat": 4,
  "nbformat_minor": 0
}